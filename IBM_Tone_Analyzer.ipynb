{
  "nbformat": 4,
  "nbformat_minor": 0,
  "metadata": {
    "colab": {
      "provenance": [],
      "authorship_tag": "ABX9TyP8RT4O+WAsTiwrBmrurjiN",
      "include_colab_link": true
    },
    "kernelspec": {
      "name": "python3",
      "display_name": "Python 3"
    },
    "language_info": {
      "name": "python"
    }
  },
  "cells": [
    {
      "cell_type": "markdown",
      "metadata": {
        "id": "view-in-github",
        "colab_type": "text"
      },
      "source": [
        "<a href=\"https://colab.research.google.com/github/mengjie514/Dynamic-Emotional-Messaging/blob/main/IBM_Tone_Analyzer.ipynb\" target=\"_parent\"><img src=\"https://colab.research.google.com/assets/colab-badge.svg\" alt=\"Open In Colab\"/></a>"
      ]
    },
    {
      "cell_type": "code",
      "source": [
        "# Import standard libraries\n",
        "import os\n",
        "import warnings\n",
        "\n",
        "# Import third-party libraries\n",
        "import pandas as pd\n",
        "import numpy as np\n",
        "\n",
        "from google.colab import drive\n",
        "\n",
        "# Configure Pandas display options\n",
        "pd.set_option('display.max_colwidth', None)  # Set to None for unlimited column width\n",
        "\n",
        "# Suppress specific warnings\n",
        "warnings.simplefilter(action='ignore', category=FutureWarning)\n",
        "\n",
        "# Function to mount Google Drive and change working directory\n",
        "def setup_environment(mount_point: str, target_directory: str):\n",
        "    \"\"\"\n",
        "    Mounts Google Drive and changes the working directory.\n",
        "\n",
        "    Parameters:\n",
        "        mount_point (str): The mount point for Google Drive.\n",
        "        target_directory (str): The directory path within Google Drive to navigate to.\n",
        "    \"\"\"\n",
        "    drive.mount(mount_point)\n",
        "    os.chdir(target_directory)\n",
        "\n",
        "# Function to load and preprocess the dataset\n",
        "def load_and_preprocess_data(file_name: str) -> pd.DataFrame:\n",
        "    \"\"\"\n",
        "    Loads the CSV dataset, removes unnecessary columns, and resets the index.\n",
        "\n",
        "    Parameters:\n",
        "        file_name (str): The name of the CSV file to load.\n",
        "\n",
        "    Returns:\n",
        "        pd.DataFrame: The cleaned and preprocessed DataFrame.\n",
        "    \"\"\"\n",
        "    # Read the CSV file\n",
        "    df = pd.read_csv(file_name, encoding='utf-8')\n",
        "\n",
        "    # Drop unnecessary columns if they exist\n",
        "    columns_to_drop = ['Unnamed: 0', 'index']\n",
        "    existing_columns_to_drop = [col for col in columns_to_drop if col in df.columns]\n",
        "    df.drop(columns=existing_columns_to_drop, axis=1, inplace=True)\n",
        "\n",
        "    # Reset the index\n",
        "    df.reset_index(drop=True, inplace=True)\n",
        "    df.reset_index(inplace=True)  # Creates a new 'index' column\n",
        "\n",
        "    return df\n",
        "\n",
        "# Main execution block\n",
        "def main():\n",
        "    \"\"\"\n",
        "    Main function to set up the environment, load, and preprocess the dataset.\n",
        "    \"\"\"\n",
        "    # Define mount point and target directory (update as necessary)\n",
        "    MOUNT_POINT = '/content/gdrive'\n",
        "    TARGET_DIRECTORY = '/content/gdrive/My Drive/Colab Notebooks/PSV'  # Update path as needed\n",
        "\n",
        "    # Mount Google Drive and navigate to the target directory\n",
        "    setup_environment(MOUNT_POINT, TARGET_DIRECTORY)\n",
        "\n",
        "    # Define the CSV file name\n",
        "    csv_file = 'PSIV_SP_Raw_2022Midterm_Clean.csv'\n",
        "\n",
        "    # Load and preprocess the data\n",
        "    df_raw = load_and_preprocess_data(csv_file)\n",
        "\n",
        "    # Display the first few rows of the cleaned DataFrame\n",
        "    print(df_raw.head())\n",
        "\n",
        "# Execute the main function\n",
        "if __name__ == \"__main__\":\n",
        "    main()"
      ],
      "metadata": {
        "colab": {
          "base_uri": "https://localhost:8080/"
        },
        "id": "5sXUcNrtZflP",
        "outputId": "691d55ba-312a-4d51-d171-cffbc2959bcc"
      },
      "execution_count": null,
      "outputs": [
        {
          "output_type": "stream",
          "name": "stdout",
          "text": [
            "Drive already mounted at /content/gdrive; to attempt to forcibly remount, call drive.mount(\"/content/gdrive\", force_remount=True).\n"
          ]
        },
        {
          "output_type": "stream",
          "name": "stderr",
          "text": [
            "<ipython-input-71-16526c0a0239>:12: FutureWarning: Passing a negative integer is deprecated in version 1.0 and will not be supported in future version. Instead, use None to not limit the column width.\n",
            "  pd.set_option('display.max_colwidth', -1)\n"
          ]
        }
      ]
    },
    {
      "cell_type": "code",
      "source": [
        "import json\n",
        "from watson_developer_cloud import ToneAnalyzerV3\n",
        "\n",
        "# Read CSV file\n",
        "df_raw = pd.read_csv('')\n",
        "\n",
        "# Drop unnecessary columns\n",
        "columns_to_drop = ['Unnamed: 0', 'index']\n",
        "existing_columns_to_drop = [col for col in columns_to_drop if col in df_raw.columns]\n",
        "df_raw.drop(columns=existing_columns_to_drop, axis=1, inplace=True)\n",
        "\n",
        "# Reset index and create a new 'index' column\n",
        "df_raw.reset_index(drop=True, inplace=True)\n",
        "df_raw.reset_index(inplace=True)  # Creates a new 'index' column\n",
        "\n",
        "# Clean text by removing newline characters and appending a period\n",
        "df_raw['clean_text_deep'] = df_raw['clean_text_deep'].replace('\\n', '', regex=True) + \".\"\n",
        "\n",
        "# Convert 'clean_text_deep' to a single string without index\n",
        "text = df_raw['clean_text_deep'].to_string(index=False)\n",
        "\n",
        "# Initialize Tone Analyzer\n",
        "tone_analyzer = ToneAnalyzerV3(\n",
        "    version='',\n",
        "    iam_apikey='',\n",
        "    url=''\n",
        ")\n",
        "\n",
        "# Perform tone analysis\n",
        "tone_analysis = tone_analyzer.tone(\n",
        "    {'text': text},\n",
        "    'application/json'\n",
        ").get_result()\n",
        "\n",
        "# Save tone analysis results as JSON\n",
        "with open('data.json', 'w') as fp:\n",
        "    json.dump(tone_analysis, fp, indent=4)\n",
        "\n",
        "# Load tone analysis JSON file\n",
        "with open('data.json', 'r') as fp:\n",
        "    data = json.load(fp)\n",
        "\n",
        "# Convert 'sentences_tone' to DataFrame\n",
        "df_tone = pd.DataFrame(data.get(\"sentences_tone\", []))\n",
        "\n",
        "# Extract first tone score and tone_id\n",
        "df_tone['score0'] = df_tone['tones'].astype(str).str.split(\":\").str[1].str.split(\",\").str[0]\n",
        "df_tone['tone_id0'] = df_tone['tones'].astype(str).str.split(\":\").str[2].str.split(\",\").str[0].str.replace(\"'\", '')\n",
        "\n",
        "# Extract second tone score and tone_id\n",
        "df_tone['score1'] = df_tone['tones'].astype(str).str.split(\":\").str[4].str.split(\",\").str[0]\n",
        "df_tone['tone_id1'] = df_tone['tones'].astype(str).str.split(\":\").str[5].str.split(\",\").str[0].str.replace(\"'\", '')\n",
        "\n",
        "# Save the processed tone analysis to CSV\n",
        "df_tone.to_csv('tone_analysis_results.csv', index=False)"
      ],
      "metadata": {
        "colab": {
          "base_uri": "https://localhost:8080/"
        },
        "id": "Z3ZIjY8kN1nj",
        "outputId": "25d11b30-e4da-4aef-dda7-3d33604731af"
      },
      "execution_count": null,
      "outputs": [
        {
          "output_type": "stream",
          "name": "stderr",
          "text": [
            "<ipython-input-125-fcf6fbe1f7bc>:12: DeprecationWarning: watson-developer-cloud moved to ibm-watson. To get updates, use the new package.\n",
            "  tone_analyzer = ToneAnalyzerV3(\n"
          ]
        }
      ]
    }
  ]
}